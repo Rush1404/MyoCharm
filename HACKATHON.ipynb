{
  "cells": [
    {
      "cell_type": "markdown",
      "metadata": {
        "id": "t-fT-E9xC1D8"
      },
      "source": [
        "IMPORTING NECESSARY LIBRARIES FOR BUILDING MACHINE LEARNING MODEL AND CONVERTING WAV TO SPECTROGRAM"
      ]
    },
    {
      "cell_type": "code",
      "execution_count": null,
      "metadata": {
        "id": "GfJEQvIhC9qS"
      },
      "outputs": [],
      "source": [
        "PREPROCESS DATA AND SET DIRECTORIES"
      ]
    },
    {
      "cell_type": "code",
      "execution_count": null,
      "metadata": {},
      "outputs": [],
      "source": [
        "parent_list = os.listdir(INPUT_DIRECTORY)\n",
        "for i in range(3):\n",
        "    print(parent_list[i])"
      ]
    },
    {
      "cell_type": "markdown",
      "metadata": {
        "id": "7caRg79dD0ws"
      },
      "source": [
        "CONVERSION OF WAVE TO SPECTROGRAM(IMAGES)"
      ]
    },
    {
      "cell_type": "code",
      "execution_count": 107,
      "metadata": {
        "id": "xqSMHi80EMHP"
      },
      "outputs": [],
      "source": [
        "#creating new directory using os and converting files into spectrograms\n",
        "for filename in os.listdir(INPUT_DIR):\n",
        "    if \"wav\" in filename:\n",
        "        file_path = os.path.join(INPUT_DIR, filename)\n",
        "        file_stem = Path(file_path).stem\n",
        "        target_dir = f'class_{file_stem[0]}'\n",
        "        dist_dir = os.path.join(os.path.join(OUTPUT_DIR, 'audio-images'), target_dir)\n",
        "        file_dist_path = os.path.join(dist_dir, file_stem)\n",
        "        if not os.path.exists(file_dist_path + '.png'):\n",
        "            if not os.path.exists(dist_dir):\n",
        "                os.mkdir(dist_dir)\n",
        "            file_stem = Path(file_path).stem\n",
        "            sound_info, frame_rate = get_wav_info(file_path)\n",
        "            pylab.specgram(sound_info, Fs=frame_rate)\n",
        "            pylab.savefig(f'{file_dist_path}.png')\n",
        "            pylab.close()"
      ]
    },
    {
      "cell_type": "code",
      "execution_count": 108,
      "metadata": {
        "id": "rrA5E3CBESM0"
      },
      "outputs": [
        {
          "name": "stdout",
          "output_type": "stream",
          "text": [
            "Classes: \n",
            "\n",
            "\n",
            "A few example files: \n",
            "\n"
          ]
        }
      ],
      "source": [
        "#CHECKING IF THE FILES ARE IN THE RIGHT PLACE (FOR TRAINING AND TESTING LATER)\n",
        "path_list = os.listdir(os.path.join(OUTPUT_DIR, 'audio-images'))\n",
        "print(\"Classes: \\n\")\n",
        "path_list = os.listdir(os.path.join(OUTPUT_DIR, 'audio-images/healthy'))\n",
        "print(\"\\nA few example files: \\n\")"
      ]
    },
    {
      "cell_type": "code",
      "execution_count": 109,
      "metadata": {
        "id": "esH-22XSFbf0"
      },
      "outputs": [],
      "source": [
        "#DECLARE CONSTANTS, THESE ARE THE ACCEPTABLE DIMENSIONS THAT THIS WILL TAKE (WE SHOULD CHANGE CLASSES TO OUR NEEDS AND BATCHES TO THE AMOUNT THAT WE WANT AS WELL)\n",
        "IMAGE_HEIGHT = 256\n",
        "IMAGE_WIDTH = 256\n",
        "BATCH_SIZE = 32\n",
        "N_CHANNELS = 3\n",
        "N_CLASSES = 10"
      ]
    },
    {
      "cell_type": "code",
      "execution_count": 110,
      "metadata": {
        "id": "CPgote1DF44w"
      },
      "outputs": [
        {
          "name": "stdout",
          "output_type": "stream",
          "text": [
            "Found 0 files belonging to 3 classes.\n",
            "Using 0 files for training.\n"
          ]
        },
        {
          "ename": "ValueError",
          "evalue": "No images found in directory OUTPUT\\audio-images. Allowed formats: ('.bmp', '.gif', '.jpeg', '.jpg', '.png')",
          "output_type": "error",
          "traceback": [
            "\u001b[1;31m---------------------------------------------------------------------------\u001b[0m",
            "\u001b[1;31mValueError\u001b[0m                                Traceback (most recent call last)",
            "Cell \u001b[1;32mIn[110], line 2\u001b[0m\n\u001b[0;32m      1\u001b[0m \u001b[39m#MAKE A DATASET WITH THE TRAINING SPECTROGRAMS ESTABLISHED\u001b[39;00m\n\u001b[1;32m----> 2\u001b[0m train_dataset \u001b[39m=\u001b[39m tf\u001b[39m.\u001b[39;49mkeras\u001b[39m.\u001b[39;49mpreprocessing\u001b[39m.\u001b[39;49mimage_dataset_from_directory(\n\u001b[0;32m      3\u001b[0m                                              batch_size\u001b[39m=\u001b[39;49mBATCH_SIZE,\n\u001b[0;32m      4\u001b[0m                                              validation_split\u001b[39m=\u001b[39;49m\u001b[39m0.2\u001b[39;49m,\n\u001b[0;32m      5\u001b[0m                                              directory\u001b[39m=\u001b[39;49mos\u001b[39m.\u001b[39;49mpath\u001b[39m.\u001b[39;49mjoin(OUTPUT_DIR, \u001b[39m'\u001b[39;49m\u001b[39maudio-images\u001b[39;49m\u001b[39m'\u001b[39;49m),\n\u001b[0;32m      6\u001b[0m                                              shuffle\u001b[39m=\u001b[39;49m\u001b[39mTrue\u001b[39;49;00m,\n\u001b[0;32m      7\u001b[0m                                              color_mode\u001b[39m=\u001b[39;49m\u001b[39m'\u001b[39;49m\u001b[39mrgb\u001b[39;49m\u001b[39m'\u001b[39;49m,\n\u001b[0;32m      8\u001b[0m                                              image_size\u001b[39m=\u001b[39;49m(IMAGE_HEIGHT, IMAGE_WIDTH),\n\u001b[0;32m      9\u001b[0m                                              subset\u001b[39m=\u001b[39;49m\u001b[39m\"\u001b[39;49m\u001b[39mtraining\u001b[39;49m\u001b[39m\"\u001b[39;49m,\n\u001b[0;32m     10\u001b[0m                                              seed\u001b[39m=\u001b[39;49m\u001b[39m0\u001b[39;49m)\n",
            "File \u001b[1;32m~\\AppData\\Roaming\\Python\\Python311\\site-packages\\keras\\utils\\image_dataset.py:297\u001b[0m, in \u001b[0;36mimage_dataset_from_directory\u001b[1;34m(directory, labels, label_mode, class_names, color_mode, batch_size, image_size, shuffle, seed, validation_split, subset, interpolation, follow_links, crop_to_aspect_ratio, **kwargs)\u001b[0m\n\u001b[0;32m    293\u001b[0m image_paths, labels \u001b[39m=\u001b[39m dataset_utils\u001b[39m.\u001b[39mget_training_or_validation_split(\n\u001b[0;32m    294\u001b[0m     image_paths, labels, validation_split, subset\n\u001b[0;32m    295\u001b[0m )\n\u001b[0;32m    296\u001b[0m \u001b[39mif\u001b[39;00m \u001b[39mnot\u001b[39;00m image_paths:\n\u001b[1;32m--> 297\u001b[0m     \u001b[39mraise\u001b[39;00m \u001b[39mValueError\u001b[39;00m(\n\u001b[0;32m    298\u001b[0m         \u001b[39mf\u001b[39m\u001b[39m\"\u001b[39m\u001b[39mNo images found in directory \u001b[39m\u001b[39m{\u001b[39;00mdirectory\u001b[39m}\u001b[39;00m\u001b[39m. \u001b[39m\u001b[39m\"\u001b[39m\n\u001b[0;32m    299\u001b[0m         \u001b[39mf\u001b[39m\u001b[39m\"\u001b[39m\u001b[39mAllowed formats: \u001b[39m\u001b[39m{\u001b[39;00mALLOWLIST_FORMATS\u001b[39m}\u001b[39;00m\u001b[39m\"\u001b[39m\n\u001b[0;32m    300\u001b[0m     )\n\u001b[0;32m    302\u001b[0m dataset \u001b[39m=\u001b[39m paths_and_labels_to_dataset(\n\u001b[0;32m    303\u001b[0m     image_paths\u001b[39m=\u001b[39mimage_paths,\n\u001b[0;32m    304\u001b[0m     image_size\u001b[39m=\u001b[39mimage_size,\n\u001b[1;32m   (...)\u001b[0m\n\u001b[0;32m    310\u001b[0m     crop_to_aspect_ratio\u001b[39m=\u001b[39mcrop_to_aspect_ratio,\n\u001b[0;32m    311\u001b[0m )\n\u001b[0;32m    312\u001b[0m dataset \u001b[39m=\u001b[39m dataset\u001b[39m.\u001b[39mprefetch(tf\u001b[39m.\u001b[39mdata\u001b[39m.\u001b[39mAUTOTUNE)\n",
            "\u001b[1;31mValueError\u001b[0m: No images found in directory OUTPUT\\audio-images. Allowed formats: ('.bmp', '.gif', '.jpeg', '.jpg', '.png')"
          ]
        }
      ],
      "source": [
        "#MAKE A DATASET WITH THE TRAINING SPECTROGRAMS ESTABLISHED\n",
        "train_dataset = tf.keras.preprocessing.image_dataset_from_directory(\n",
        "                                             batch_size=BATCH_SIZE,\n",
        "                                             validation_split=0.2,\n",
        "                                             directory=os.path.join(OUTPUT_DIR, 'audio-images'),\n",
        "                                             shuffle=True,\n",
        "                                             color_mode='rgb',\n",
        "                                             image_size=(IMAGE_HEIGHT, IMAGE_WIDTH),\n",
        "                                             subset=\"training\",\n",
        "                                             seed=0)"
      ]
    },
    {
      "cell_type": "code",
      "execution_count": null,
      "metadata": {
        "id": "HlyYH_xiGCql"
      },
      "outputs": [],
      "source": [
        "#CREATE DATASET WITH VALIDATION SPECTROGRAMS (IF MODEL MATCHES THIS IT IS GOOD)\n",
        "valid_dataset = tf.keras.preprocessing.image_dataset_from_directory(\n",
        "                                             batch_size=BATCH_SIZE,\n",
        "                                             validation_split=0.2,\n",
        "                                             directory=os.path.join(OUTPUT_DIR, 'audio-images'),\n",
        "                                             shuffle=True,\n",
        "                                             color_mode='rgb',\n",
        "                                             image_size=(IMAGE_HEIGHT, IMAGE_WIDTH),\n",
        "                                             subset=\"validation\",\n",
        "                                             seed=0)"
      ]
    },
    {
      "cell_type": "code",
      "execution_count": null,
      "metadata": {
        "id": "47PVFfh5GuAB"
      },
      "outputs": [],
      "source": [
        "#USE MATPLOTLIB TO VISUALISE (DO NOT USE THIS IN CODE)\n",
        "plt.figure(figsize=(12, 12))\n",
        "for images, labels in train_dataset.take(1):\n",
        "    for i in range(9):\n",
        "        ax = plt.subplot(3, 3, i + 1)\n",
        "        plt.imshow(images[i].numpy().astype(\"uint8\"))\n",
        "        plt.title(int(labels[i]))\n",
        "        plt.axis(\"off\")\n",
        "plt.show()"
      ]
    },
    {
      "cell_type": "code",
      "execution_count": null,
      "metadata": {
        "id": "RgAGIBOWG6jX"
      },
      "outputs": [],
      "source": [
        "#FORM A FUNCTION FOR THE MODEL USING A KERAS SEQUENTIAL MODEL\n",
        "def prepare(ds, augment=False):\n",
        "    rescale = tf.keras.Sequential([tf.keras.layers.experimental.preprocessing.Rescaling(1./255)])\n",
        "    flip_and_rotate = tf.keras.Sequential([\n",
        "        tf.keras.layers.experimental.preprocessing.RandomFlip(\"horizontal_and_vertical\"),\n",
        "        tf.keras.layers.experimental.preprocessing.RandomRotation(0.2)\n",
        "    ])"
      ]
    },
    {
      "cell_type": "code",
      "execution_count": null,
      "metadata": {
        "id": "Jzk0Rs8gHBxl"
      },
      "outputs": [],
      "source": [
        "#RESIZE THE MODEL TO FIT THE DEFINED CONSTANTS AT THE START OF THIS SECTION\n",
        "ds = ds.map(lambda x, y: (rescale(x, training=True), y))\n",
        "    if augment: ds = ds.map(lambda x, y: (flip_and_rotate(x, training=True), y))\n",
        "    return ds\n",
        "\n",
        "train_dataset = prepare(train_dataset, augment=False)\n",
        "valid_dataset = prepare(valid_dataset, augment=False)"
      ]
    },
    {
      "cell_type": "code",
      "execution_count": null,
      "metadata": {
        "id": "LT-t7JhFHKUr"
      },
      "outputs": [],
      "source": [
        "#CREATE DEEP LEARNING MODEL USING KERAS SEQUENTIAL CONV2D(CONVOLUTION) AND NORMALIZATION OF BATCH DATA AND FLATTEN\n",
        "model = tf.keras.models.Sequential()\n",
        "model.add(tf.keras.layers.Input(shape=(IMAGE_HEIGHT, IMAGE_WIDTH, N_CHANNELS)))\n",
        "model.add(tf.keras.layers.Conv2D(32, 3, strides=2, padding='same', activation='relu'))\n",
        "model.add(tf.keras.layers.BatchNormalization())\n",
        "model.add(tf.keras.layers.MaxPooling2D(pool_size=(2, 2)))\n",
        "model.add(tf.keras.layers.BatchNormalization())\n",
        "model.add(tf.keras.layers.Conv2D(64, 3, padding='same', activation='relu'))\n",
        "model.add(tf.keras.layers.BatchNormalization())\n",
        "model.add(tf.keras.layers.MaxPooling2D(pool_size=(2, 2)))\n",
        "model.add(tf.keras.layers.BatchNormalization())\n",
        "model.add(tf.keras.layers.Conv2D(128, 3, padding='same', activation='relu'))\n",
        "model.add(tf.keras.layers.BatchNormalization())\n",
        "model.add(tf.keras.layers.MaxPooling2D(pool_size=(2, 2)))\n",
        "model.add(tf.keras.layers.BatchNormalization())\n",
        "model.add(tf.keras.layers.Flatten())\n",
        "model.add(tf.keras.layers.Dense(256, activation='relu'))\n",
        "model.add(tf.keras.layers.BatchNormalization())\n",
        "model.add(tf.keras.layers.Dropout(0.5))\n",
        "model.add(tf.keras.layers.Dense(N_CLASSES, activation='softmax'))"
      ]
    },
    {
      "cell_type": "code",
      "execution_count": null,
      "metadata": {
        "id": "OP4WM1j1HisA"
      },
      "outputs": [],
      "source": [
        "#USE KERAS OPTIMIZER TO COMPILE THE MODEL\n",
        "model.compile(\n",
        "    loss='sparse_categorical_crossentropy',\n",
        "    optimizer=tf.keras.optimizers.RMSprop(),\n",
        "    metrics=['accuracy'],\n",
        ")"
      ]
    },
    {
      "cell_type": "code",
      "execution_count": null,
      "metadata": {
        "id": "E9hwBAH3PvZE"
      },
      "outputs": [],
      "source": [
        "#FINALLY TRAIN MODEL (MODIFY EPOCHS)\n",
        "history = model.fit(train_dataset, epochs=500, validation_data=valid_dataset)"
      ]
    },
    {
      "cell_type": "code",
      "execution_count": null,
      "metadata": {
        "id": "CUk6CyeIQGHP"
      },
      "outputs": [],
      "source": []
    },
    {
      "cell_type": "markdown",
      "metadata": {
        "id": "uzbGAg_bQOgI"
      },
      "source": [
        "EVALUATING MODEL (NOT NECESSARY AS THE MODEL HAS ALREADY BEEN CREATED)"
      ]
    },
    {
      "cell_type": "code",
      "execution_count": null,
      "metadata": {
        "id": "501-03CgQOEc"
      },
      "outputs": [],
      "source": [
        "# PLOT ACCURACY AND LOSS CURVES FOR VISUALISATION ONLY\n",
        "history_dict = history.history\n",
        "loss_values = history_dict['loss']\n",
        "val_loss_values = history_dict['val_loss']\n",
        "epochs = range(1, len(loss_values)+1)\n",
        "\n",
        "plt.figure(figsize=(8,6))\n",
        "plt.plot(epochs, loss_values, 'bo', label='Training loss')\n",
        "plt.plot(epochs, val_loss_values, 'b', label='Validation loss')\n",
        "plt.title('Training and validation loss')\n",
        "plt.xlabel('Epochs')\n",
        "plt.ylabel('Loss')\n",
        "plt.legend()\n",
        "plt.show()"
      ]
    },
    {
      "cell_type": "code",
      "execution_count": null,
      "metadata": {
        "id": "ttDkG-H2QWsf"
      },
      "outputs": [],
      "source": [
        "#Calculate final loss and accuracy values\n",
        "final_loss, final_acc = model.evaluate(valid_dataset, verbose=0)\n",
        "print(\"Final loss: {0:.6f}, final accuracy: {1:.6f}\".format(final_loss, final_acc))"
      ]
    }
  ],
  "metadata": {
    "colab": {
      "provenance": []
    },
    "kernelspec": {
      "display_name": "Python 3",
      "name": "python3"
    },
    "language_info": {
      "codemirror_mode": {
        "name": "ipython",
        "version": 3
      },
      "file_extension": ".py",
      "mimetype": "text/x-python",
      "name": "python",
      "nbconvert_exporter": "python",
      "pygments_lexer": "ipython3",
      "version": "3.11.4"
    }
  },
  "nbformat": 4,
  "nbformat_minor": 0
}
